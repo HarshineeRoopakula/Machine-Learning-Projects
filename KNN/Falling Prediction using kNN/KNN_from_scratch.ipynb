{
  "nbformat": 4,
  "nbformat_minor": 0,
  "metadata": {
    "colab": {
      "name": "KNN_from_scratch.ipynb",
      "provenance": [],
      "collapsed_sections": [],
      "authorship_tag": "ABX9TyPZx7J53PcTE0EWAtrp7Z4g",
      "include_colab_link": true
    },
    "kernelspec": {
      "name": "python3",
      "display_name": "Python 3"
    },
    "language_info": {
      "name": "python"
    }
  },
  "cells": [
    {
      "cell_type": "markdown",
      "metadata": {
        "id": "view-in-github",
        "colab_type": "text"
      },
      "source": [
        "<a href=\"https://colab.research.google.com/github/HarshineeRoopakula/Machine-Learning/blob/main/Supervised%20Learning/Falling%20Prediction%20using%20kNN/KNN_from_scratch.ipynb\" target=\"_parent\"><img src=\"https://colab.research.google.com/assets/colab-badge.svg\" alt=\"Open In Colab\"/></a>"
      ]
    },
    {
      "cell_type": "markdown",
      "metadata": {
        "id": "QNuYuEEwgoLo"
      },
      "source": [
        "## Importing necessary libraries"
      ]
    },
    {
      "cell_type": "code",
      "metadata": {
        "id": "anm7ygLlfspu"
      },
      "source": [
        "# Importing sqrt function from math module\n",
        "from math import sqrt"
      ],
      "execution_count": 1,
      "outputs": []
    },
    {
      "cell_type": "markdown",
      "metadata": {
        "id": "jJpOaYQJf0J6"
      },
      "source": [
        "## Calculating Euclidean distance"
      ]
    },
    {
      "cell_type": "code",
      "metadata": {
        "id": "U7AMYD0HfzDl"
      },
      "source": [
        "# calculate the Euclidean distance between two vectors\n",
        "# Formula - Euclidean Distance = sqrt(sum i to N (x1_i – x2_i)^2)\n",
        "def euclidean_distance(row1, row2):\n",
        "    distance = 0.0\n",
        "    for i in range(len(row1)):\n",
        "        distance += (row1[i] - row2[i])**2\n",
        "    return sqrt(distance)"
      ],
      "execution_count": 2,
      "outputs": []
    },
    {
      "cell_type": "markdown",
      "metadata": {
        "id": "a7na92_Yf77j"
      },
      "source": [
        "## Locating the most similar neighbors"
      ]
    },
    {
      "cell_type": "code",
      "metadata": {
        "id": "UH_OgsHyfzI3"
      },
      "source": [
        "# Locate the most similar neighbors\n",
        "# Result\n",
        "#    [6, 5, 7, 5, 6, 7, 1]\n",
        "#    [7, 6, 7, 6, 5, 6, 1]\n",
        "#    [5, 6, 6, 6, 5, 7, 1]\n",
        "\n",
        "def get_neighbors(train, test_row, num_neighbors):\n",
        "    distances = list()\n",
        "    for train_row in train:\n",
        "        dist = euclidean_distance(test_row, train_row)\n",
        "        distances.append((train_row, dist))\n",
        "    distances.sort(key=lambda tup: tup[1])\n",
        "    neighbors = list()\n",
        "    for i in range(num_neighbors):\n",
        "        neighbors.append(distances[i][0])\n",
        "    return neighbors"
      ],
      "execution_count": 3,
      "outputs": []
    },
    {
      "cell_type": "markdown",
      "metadata": {
        "id": "Vii7P5yegEzg"
      },
      "source": [
        "## Making Classification prediction with neighbors"
      ]
    },
    {
      "cell_type": "code",
      "metadata": {
        "id": "3Fpn3kSnfzLZ"
      },
      "source": [
        "# Make a classification prediction with neighbors\n",
        "# test_row is [7, 6, 5, 5, 6, 7]\n",
        "# num_neighbors is 3\n",
        "def predict_classification(train, test_row, num_neighbors):\n",
        "    neighbors = get_neighbors(train, test_row, num_neighbors)\n",
        "    output_values = [row[-1] for row in neighbors]\n",
        "    prediction = max(set(output_values), key=output_values.count)\n",
        "    return prediction"
      ],
      "execution_count": 4,
      "outputs": []
    },
    {
      "cell_type": "markdown",
      "metadata": {
        "id": "sb-aEhyTgNzN"
      },
      "source": [
        "## Dataset - Train and test data"
      ]
    },
    {
      "cell_type": "code",
      "metadata": {
        "id": "2EY22g9fgO0f"
      },
      "source": [
        "# Test distance function\n",
        "# Here, 0 means Not Fall(-), 1 means Fall(+)\n",
        "dataset = [[1,2,3,2,1,3,0],\n",
        "           [2,1,3,3,1,2,0],\n",
        "           [1,1,2,3,2,2,0],\n",
        "           [2,2,3,3,2,1,0],\n",
        "           [6,5,7,5,6,7,1],\n",
        "           [5,6,6,6,5,7,1],\n",
        "           [5,6,7,5,7,6,1],\n",
        "           [7,6,7,6,5,6,1]]"
      ],
      "execution_count": 5,
      "outputs": []
    },
    {
      "cell_type": "markdown",
      "metadata": {
        "id": "8spMRh7PgU-g"
      },
      "source": [
        "## Predicting for new dataset"
      ]
    },
    {
      "cell_type": "code",
      "metadata": {
        "colab": {
          "base_uri": "https://localhost:8080/"
        },
        "id": "Mzlh4rYFgXuX",
        "outputId": "182c189d-1496-44fb-891f-c14861d96f65"
      },
      "source": [
        "prediction = predict_classification(dataset, [7,6,5,5,6,7], 3)\n",
        "# Display\n",
        "# Expected 1, Got 1.\n",
        "print('Expected %d, Got %d.' % ([7,6,5,5,6,7,1][-1], prediction))"
      ],
      "execution_count": 6,
      "outputs": [
        {
          "output_type": "stream",
          "text": [
            "Expected 1, Got 1.\n"
          ],
          "name": "stdout"
        }
      ]
    }
  ]
}